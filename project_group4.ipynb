{
 "cells": [
  {
   "attachments": {},
   "cell_type": "markdown",
   "metadata": {},
   "source": [
    "# Educational Spendings Effect on Home Valuations Across the United States of America\n"
   ]
  },
  {
   "cell_type": "code",
   "execution_count": 34,
   "metadata": {},
   "outputs": [],
   "source": [
    "# import libraries \n",
    "\n",
    "import pandas as pd\n",
    "import numpy as np\n",
    "import statsmodels.api as sm\n",
    "\n",
    "# set float format\n",
    "pd.options.display.float_format = '{:.2f}'.format\n",
    "\n",
    "# Read datasets\n",
    "\n",
    "gdpDeflator = pd.read_csv('data\\FRED_ipd.csv')\n",
    "\n",
    "homeValuation = pd.read_csv('data\\ZillowHousingValues_state-by-state.csv')\n",
    "\n",
    "educationSpending = pd.read_csv('data\\education-spending_state-by-state.csv')"
   ]
  },
  {
   "attachments": {},
   "cell_type": "markdown",
   "metadata": {},
   "source": [
    "#### Format gdpDeflator to be used homeValuations and educationSpending. This table will eventually be used to merge and perform gdp deflation calculations."
   ]
  },
  {
   "cell_type": "code",
   "execution_count": 35,
   "metadata": {},
   "outputs": [],
   "source": [
    "# Rename columns\n",
    "gdpDeflator = gdpDeflator.rename(columns={'DATE': 'year', 'USAGDPDEFAISMEI': 'ipd'})\n",
    "\n",
    "# Set date to correct variable type\n",
    "gdpDeflator['year'] = pd.to_datetime(gdpDeflator['year']) \n",
    "\n",
    "# remove all data that does not fit data date range\n",
    "gdpDeflator = gdpDeflator[gdpDeflator['year'] >= '2000-01-01']\n",
    "gdpDeflator = gdpDeflator[gdpDeflator['year'] <= '2016-01-01']\n",
    "\n",
    "# reset index to accommodate new datarange\n",
    "gdpDeflator = gdpDeflator.reset_index(drop=True)"
   ]
  },
  {
   "attachments": {},
   "cell_type": "markdown",
   "metadata": {},
   "source": [
    "#### Adjust Base year from 2015 to 2016"
   ]
  },
  {
   "cell_type": "code",
   "execution_count": 36,
   "metadata": {},
   "outputs": [],
   "source": [
    "# set base year\n",
    "base_year = '2016-01-01'\n",
    "\n",
    "# calculate conversion factor\n",
    "conversion_factor = gdpDeflator.loc[gdpDeflator['year'] == base_year, 'ipd'].values[0] / 100\n",
    "\n",
    "# adjust to base year of 2016\n",
    "gdpDeflator['ipd'] = gdpDeflator['ipd'] / conversion_factor"
   ]
  },
  {
   "attachments": {},
   "cell_type": "markdown",
   "metadata": {},
   "source": [
    "#### Format educationSpending to be merged with gdpDeflator (for inflation calculations)"
   ]
  },
  {
   "cell_type": "code",
   "execution_count": 37,
   "metadata": {},
   "outputs": [],
   "source": [
    "# convert wide form dataframe into long form\n",
    "educationSpending = pd.melt(educationSpending, id_vars=['state'], var_name='year', value_name='USD')\n",
    "\n",
    "# change date variable type\n",
    "educationSpending['year'] = pd.to_datetime(educationSpending['year'])\n",
    "\n",
    "# sort by state, then year for easier indexing\n",
    "educationSpending = educationSpending.sort_values(['state', 'year'])\n",
    "\n",
    "# remove all data that does not fit data date range\n",
    "educationSpending = educationSpending[educationSpending['year'] >= '2000-01-01']\n",
    "educationSpending = educationSpending[educationSpending['year'] <= '2016-01-01']\n",
    "\n",
    "# reset index after sort\n",
    "educationSpending = educationSpending.reset_index(drop=True)\n",
    "\n",
    "# rename columns\n",
    "educationSpending = educationSpending.rename(columns={'USD': 'EducationSpend'})"
   ]
  },
  {
   "attachments": {},
   "cell_type": "markdown",
   "metadata": {},
   "source": [
    "#### Format homeValuation Dataframe"
   ]
  },
  {
   "cell_type": "code",
   "execution_count": 38,
   "metadata": {},
   "outputs": [],
   "source": [
    "# drop unneccessary columns\n",
    "collumnToDrop = ['RegionID', 'SizeRank', 'RegionType', 'StateName']\n",
    "homeValuation = homeValuation.drop(collumnToDrop, axis=1)\n",
    "\n",
    "# Convert wide form into long form dataframe\n",
    "homeValuation = pd.melt(homeValuation, id_vars=['RegionName'], var_name='Date', value_name='HomeValue')\n",
    "\n",
    "# convert ['Date'] datatype to DateTime\n",
    "homeValuation['Date'] = pd.to_datetime(homeValuation['Date']) + pd.tseries.offsets.MonthBegin(-1)\n",
    "\n",
    "# sort data by state and date\n",
    "homeValuation = homeValuation.sort_values(['RegionName', 'Date'])\n",
    "\n",
    "# Remove all data that does is not the start of a year\n",
    "homeValuation = homeValuation[homeValuation['Date'].dt.month == 1]\n",
    "\n",
    "# remove all data that does not fit data date range\n",
    "homeValuation = homeValuation[homeValuation['Date'] <= '2016-01-01']\n",
    "homeValuation = homeValuation[homeValuation['Date'] >= '2000-01-01']\n",
    "\n",
    "# rename columns (allow for simple use of left join later)\n",
    "homeValuation = homeValuation.rename(columns={'Date': 'year', 'RegionName': 'state'})\n",
    "\n",
    "# drop NaN\n",
    "homeValuation.dropna(inplace=True)\n",
    "\n",
    "# reset index\n",
    "homeValuation = homeValuation.reset_index(drop=True)"
   ]
  },
  {
   "attachments": {},
   "cell_type": "markdown",
   "metadata": {},
   "source": [
    "#### Left join educationSpending and gdpDeflator, and perform inflation adjustments"
   ]
  },
  {
   "cell_type": "code",
   "execution_count": 39,
   "metadata": {},
   "outputs": [],
   "source": [
    "# Left join\n",
    "education_gdpDeflator = pd.merge(educationSpending, gdpDeflator, on='year', how='left')\n",
    "\n",
    "# define variable for base year value\n",
    "BaseYear = gdpDeflator.loc[16, 'ipd']\n",
    "\n",
    "# Make new column for adjusted values\n",
    "education_gdpDeflator['adjusted_EducationSpend'] = 0\n",
    "\n",
    "# Adjust value calculations\n",
    "education_gdpDeflator['adjusted_EducationSpend'] = (education_gdpDeflator['EducationSpend'] / education_gdpDeflator['ipd']) * BaseYear \n",
    "\n",
    "# Format final dataset\n",
    "collumn_Drop = ['ipd', 'EducationSpend']\n",
    "educationSpending_final = education_gdpDeflator.drop(collumn_Drop, axis=1)"
   ]
  },
  {
   "attachments": {},
   "cell_type": "markdown",
   "metadata": {},
   "source": [
    "#### Left join homeValuation and gdpDeflator, and perform inflation adjustments"
   ]
  },
  {
   "cell_type": "code",
   "execution_count": 40,
   "metadata": {},
   "outputs": [],
   "source": [
    "# Left Join\n",
    "homeValuation_gdpDeflator = pd.merge(homeValuation, gdpDeflator, on='year', how='left')\n",
    "\n",
    "# Make new column for adjusted values\n",
    "homeValuation_gdpDeflator['adjusted_homeValuation'] = 0\n",
    "\n",
    "# Inflation value adjustment calculations\n",
    "homeValuation_gdpDeflator['adjusted_homeValuation'] = (homeValuation_gdpDeflator['HomeValue'] / homeValuation_gdpDeflator['ipd']) * BaseYear \n",
    "\n",
    "# Format final dataset\n",
    "collumn_Drop = ['ipd', 'HomeValue']\n",
    "homeValuation_final = homeValuation_gdpDeflator.drop(collumn_Drop, axis=1)\n"
   ]
  },
  {
   "attachments": {},
   "cell_type": "markdown",
   "metadata": {},
   "source": [
    "#### Define a function for OLS model"
   ]
  },
  {
   "cell_type": "code",
   "execution_count": 41,
   "metadata": {},
   "outputs": [],
   "source": [
    "def ols_model(y, X):\n",
    "    model = sm.OLS(y, X).fit()\n",
    "    return model.summary()"
   ]
  },
  {
   "attachments": {},
   "cell_type": "markdown",
   "metadata": {},
   "source": [
    "#### Merge all state dataset for model use"
   ]
  },
  {
   "cell_type": "code",
   "execution_count": 42,
   "metadata": {},
   "outputs": [],
   "source": [
    "OLS_modelmerge = pd.merge(educationSpending_final, homeValuation_final, on=['state', 'year'], how='left')\n",
    "OLS_modelmerge.dropna(inplace=True)"
   ]
  },
  {
   "attachments": {},
   "cell_type": "markdown",
   "metadata": {},
   "source": [
    "#### Define variables and create intercept, then run OLS"
   ]
  },
  {
   "cell_type": "code",
   "execution_count": 43,
   "metadata": {},
   "outputs": [
    {
     "data": {
      "text/html": [
       "<table class=\"simpletable\">\n",
       "<caption>OLS Regression Results</caption>\n",
       "<tr>\n",
       "  <th>Dep. Variable:</th>    <td>adjusted_homeValuation</td> <th>  R-squared:         </th> <td>   0.041</td> \n",
       "</tr>\n",
       "<tr>\n",
       "  <th>Model:</th>                      <td>OLS</td>          <th>  Adj. R-squared:    </th> <td>   0.040</td> \n",
       "</tr>\n",
       "<tr>\n",
       "  <th>Method:</th>                <td>Least Squares</td>     <th>  F-statistic:       </th> <td>   36.49</td> \n",
       "</tr>\n",
       "<tr>\n",
       "  <th>Date:</th>                <td>Tue, 25 Apr 2023</td>    <th>  Prob (F-statistic):</th> <td>2.30e-09</td> \n",
       "</tr>\n",
       "<tr>\n",
       "  <th>Time:</th>                    <td>10:35:24</td>        <th>  Log-Likelihood:    </th> <td> -10751.</td> \n",
       "</tr>\n",
       "<tr>\n",
       "  <th>No. Observations:</th>         <td>   846</td>         <th>  AIC:               </th> <td>2.151e+04</td>\n",
       "</tr>\n",
       "<tr>\n",
       "  <th>Df Residuals:</th>             <td>   844</td>         <th>  BIC:               </th> <td>2.151e+04</td>\n",
       "</tr>\n",
       "<tr>\n",
       "  <th>Df Model:</th>                 <td>     1</td>         <th>                     </th>     <td> </td>    \n",
       "</tr>\n",
       "<tr>\n",
       "  <th>Covariance Type:</th>         <td>nonrobust</td>       <th>                     </th>     <td> </td>    \n",
       "</tr>\n",
       "</table>\n",
       "<table class=\"simpletable\">\n",
       "<tr>\n",
       "             <td></td>                <th>coef</th>     <th>std err</th>      <th>t</th>      <th>P>|t|</th>  <th>[0.025</th>    <th>0.975]</th>  \n",
       "</tr>\n",
       "<tr>\n",
       "  <th>intercept</th>               <td> 1.766e+05</td> <td> 3593.155</td> <td>   49.147</td> <td> 0.000</td> <td>  1.7e+05</td> <td> 1.84e+05</td>\n",
       "</tr>\n",
       "<tr>\n",
       "  <th>adjusted_EducationSpend</th> <td>    0.0014</td> <td>    0.000</td> <td>    6.041</td> <td> 0.000</td> <td>    0.001</td> <td>    0.002</td>\n",
       "</tr>\n",
       "</table>\n",
       "<table class=\"simpletable\">\n",
       "<tr>\n",
       "  <th>Omnibus:</th>       <td>180.489</td> <th>  Durbin-Watson:     </th> <td>   0.142</td>\n",
       "</tr>\n",
       "<tr>\n",
       "  <th>Prob(Omnibus):</th> <td> 0.000</td>  <th>  Jarque-Bera (JB):  </th> <td> 328.602</td>\n",
       "</tr>\n",
       "<tr>\n",
       "  <th>Skew:</th>          <td> 1.276</td>  <th>  Prob(JB):          </th> <td>4.42e-72</td>\n",
       "</tr>\n",
       "<tr>\n",
       "  <th>Kurtosis:</th>      <td> 4.676</td>  <th>  Cond. No.          </th> <td>2.07e+07</td>\n",
       "</tr>\n",
       "</table><br/><br/>Notes:<br/>[1] Standard Errors assume that the covariance matrix of the errors is correctly specified.<br/>[2] The condition number is large, 2.07e+07. This might indicate that there are<br/>strong multicollinearity or other numerical problems."
      ],
      "text/plain": [
       "<class 'statsmodels.iolib.summary.Summary'>\n",
       "\"\"\"\n",
       "                              OLS Regression Results                              \n",
       "==================================================================================\n",
       "Dep. Variable:     adjusted_homeValuation   R-squared:                       0.041\n",
       "Model:                                OLS   Adj. R-squared:                  0.040\n",
       "Method:                     Least Squares   F-statistic:                     36.49\n",
       "Date:                    Tue, 25 Apr 2023   Prob (F-statistic):           2.30e-09\n",
       "Time:                            10:35:24   Log-Likelihood:                -10751.\n",
       "No. Observations:                     846   AIC:                         2.151e+04\n",
       "Df Residuals:                         844   BIC:                         2.151e+04\n",
       "Df Model:                               1                                         \n",
       "Covariance Type:                nonrobust                                         \n",
       "===========================================================================================\n",
       "                              coef    std err          t      P>|t|      [0.025      0.975]\n",
       "-------------------------------------------------------------------------------------------\n",
       "intercept                1.766e+05   3593.155     49.147      0.000     1.7e+05    1.84e+05\n",
       "adjusted_EducationSpend     0.0014      0.000      6.041      0.000       0.001       0.002\n",
       "==============================================================================\n",
       "Omnibus:                      180.489   Durbin-Watson:                   0.142\n",
       "Prob(Omnibus):                  0.000   Jarque-Bera (JB):              328.602\n",
       "Skew:                           1.276   Prob(JB):                     4.42e-72\n",
       "Kurtosis:                       4.676   Cond. No.                     2.07e+07\n",
       "==============================================================================\n",
       "\n",
       "Notes:\n",
       "[1] Standard Errors assume that the covariance matrix of the errors is correctly specified.\n",
       "[2] The condition number is large, 2.07e+07. This might indicate that there are\n",
       "strong multicollinearity or other numerical problems.\n",
       "\"\"\""
      ]
     },
     "execution_count": 43,
     "metadata": {},
     "output_type": "execute_result"
    }
   ],
   "source": [
    "#intercept\n",
    "OLS_modelmerge['intercept'] = 1\n",
    "\n",
    "# define independent variables\n",
    "X = OLS_modelmerge[ ['intercept', 'adjusted_EducationSpend']]\n",
    "\n",
    "# define dependent variable\n",
    "y = OLS_modelmerge['adjusted_homeValuation']\n",
    "\n",
    "# run OLS model\n",
    "ols_model(y,X)"
   ]
  },
  {
   "attachments": {},
   "cell_type": "markdown",
   "metadata": {},
   "source": [
    "#### Pearson correlation on main dataset"
   ]
  },
  {
   "cell_type": "code",
   "execution_count": 44,
   "metadata": {},
   "outputs": [
    {
     "data": {
      "text/plain": [
       "0.2035796038690924"
      ]
     },
     "execution_count": 44,
     "metadata": {},
     "output_type": "execute_result"
    }
   ],
   "source": [
    "OLS_modelmerge['adjusted_EducationSpend'].corr(OLS_modelmerge['adjusted_homeValuation'], method='pearson')"
   ]
  },
  {
   "attachments": {},
   "cell_type": "markdown",
   "metadata": {},
   "source": [
    "#### Establish regionally grouped dataframes"
   ]
  },
  {
   "cell_type": "code",
   "execution_count": 45,
   "metadata": {},
   "outputs": [],
   "source": [
    "northEast = ['Connecticut', 'Maine', 'Massachusetts', 'New Hampshire', 'Rhode Island', 'Vermont', 'New Jersey', 'New York', 'Pennsylvania' ]\n",
    "\n",
    "midWest = ['Indiana', 'Illinois', 'Michigan', 'Ohio', 'Wisconsin', 'Iowa', 'Kansas', 'Minnesota', 'Missouri', 'Nebraska', 'North Dakota', 'South Dakota' ]\n",
    "\n",
    "south = ['Delaware', 'District of Columbia', 'Florida', 'Georgia', 'Maryland', 'North Carolina', 'South Carolina', 'Virginia', 'West Virginia', 'Alabama', 'Kentucky', 'Mississippi', 'Tennessee', 'Arkansas', 'Louisiana', 'Oklahoma', 'Texas']\n",
    "\n",
    "west = ['Arizona', 'Colorado', 'Idaho', 'New Mexico', 'Montana', 'Utah', 'Nevada', 'Wyoming', 'Alaska', 'California', 'Hawaii', 'Oregon', 'Washington']\n",
    "\n",
    "OLS_northEast = OLS_modelmerge[OLS_modelmerge['state'].isin(northEast)]\n",
    "OLS_midWest = OLS_modelmerge[OLS_modelmerge['state'].isin(midWest)]\n",
    "OLS_south = OLS_modelmerge[OLS_modelmerge['state'].isin(south)]\n",
    "OLS_west = OLS_modelmerge[OLS_modelmerge['state'].isin(west)]\n"
   ]
  },
  {
   "attachments": {},
   "cell_type": "markdown",
   "metadata": {},
   "source": [
    "#### North East Region OLS"
   ]
  },
  {
   "cell_type": "code",
   "execution_count": 46,
   "metadata": {},
   "outputs": [
    {
     "data": {
      "text/html": [
       "<table class=\"simpletable\">\n",
       "<caption>OLS Regression Results</caption>\n",
       "<tr>\n",
       "  <th>Dep. Variable:</th>    <td>adjusted_homeValuation</td> <th>  R-squared:         </th> <td>   0.003</td>\n",
       "</tr>\n",
       "<tr>\n",
       "  <th>Model:</th>                      <td>OLS</td>          <th>  Adj. R-squared:    </th> <td>  -0.004</td>\n",
       "</tr>\n",
       "<tr>\n",
       "  <th>Method:</th>                <td>Least Squares</td>     <th>  F-statistic:       </th> <td>  0.4274</td>\n",
       "</tr>\n",
       "<tr>\n",
       "  <th>Date:</th>                <td>Tue, 25 Apr 2023</td>    <th>  Prob (F-statistic):</th>  <td> 0.514</td> \n",
       "</tr>\n",
       "<tr>\n",
       "  <th>Time:</th>                    <td>10:35:24</td>        <th>  Log-Likelihood:    </th> <td> -1920.1</td>\n",
       "</tr>\n",
       "<tr>\n",
       "  <th>No. Observations:</th>         <td>   153</td>         <th>  AIC:               </th> <td>   3844.</td>\n",
       "</tr>\n",
       "<tr>\n",
       "  <th>Df Residuals:</th>             <td>   151</td>         <th>  BIC:               </th> <td>   3850.</td>\n",
       "</tr>\n",
       "<tr>\n",
       "  <th>Df Model:</th>                 <td>     1</td>         <th>                     </th>     <td> </td>   \n",
       "</tr>\n",
       "<tr>\n",
       "  <th>Covariance Type:</th>         <td>nonrobust</td>       <th>                     </th>     <td> </td>   \n",
       "</tr>\n",
       "</table>\n",
       "<table class=\"simpletable\">\n",
       "<tr>\n",
       "             <td></td>                <th>coef</th>     <th>std err</th>      <th>t</th>      <th>P>|t|</th>  <th>[0.025</th>    <th>0.975]</th>  \n",
       "</tr>\n",
       "<tr>\n",
       "  <th>intercept</th>               <td> 2.305e+05</td> <td> 7459.426</td> <td>   30.897</td> <td> 0.000</td> <td> 2.16e+05</td> <td> 2.45e+05</td>\n",
       "</tr>\n",
       "<tr>\n",
       "  <th>adjusted_EducationSpend</th> <td>    0.0002</td> <td>    0.000</td> <td>    0.654</td> <td> 0.514</td> <td>   -0.000</td> <td>    0.001</td>\n",
       "</tr>\n",
       "</table>\n",
       "<table class=\"simpletable\">\n",
       "<tr>\n",
       "  <th>Omnibus:</th>       <td> 8.237</td> <th>  Durbin-Watson:     </th> <td>   0.179</td>\n",
       "</tr>\n",
       "<tr>\n",
       "  <th>Prob(Omnibus):</th> <td> 0.016</td> <th>  Jarque-Bera (JB):  </th> <td>   8.251</td>\n",
       "</tr>\n",
       "<tr>\n",
       "  <th>Skew:</th>          <td> 0.528</td> <th>  Prob(JB):          </th> <td>  0.0162</td>\n",
       "</tr>\n",
       "<tr>\n",
       "  <th>Kurtosis:</th>      <td> 2.575</td> <th>  Cond. No.          </th> <td>2.77e+07</td>\n",
       "</tr>\n",
       "</table><br/><br/>Notes:<br/>[1] Standard Errors assume that the covariance matrix of the errors is correctly specified.<br/>[2] The condition number is large, 2.77e+07. This might indicate that there are<br/>strong multicollinearity or other numerical problems."
      ],
      "text/plain": [
       "<class 'statsmodels.iolib.summary.Summary'>\n",
       "\"\"\"\n",
       "                              OLS Regression Results                              \n",
       "==================================================================================\n",
       "Dep. Variable:     adjusted_homeValuation   R-squared:                       0.003\n",
       "Model:                                OLS   Adj. R-squared:                 -0.004\n",
       "Method:                     Least Squares   F-statistic:                    0.4274\n",
       "Date:                    Tue, 25 Apr 2023   Prob (F-statistic):              0.514\n",
       "Time:                            10:35:24   Log-Likelihood:                -1920.1\n",
       "No. Observations:                     153   AIC:                             3844.\n",
       "Df Residuals:                         151   BIC:                             3850.\n",
       "Df Model:                               1                                         \n",
       "Covariance Type:                nonrobust                                         \n",
       "===========================================================================================\n",
       "                              coef    std err          t      P>|t|      [0.025      0.975]\n",
       "-------------------------------------------------------------------------------------------\n",
       "intercept                2.305e+05   7459.426     30.897      0.000    2.16e+05    2.45e+05\n",
       "adjusted_EducationSpend     0.0002      0.000      0.654      0.514      -0.000       0.001\n",
       "==============================================================================\n",
       "Omnibus:                        8.237   Durbin-Watson:                   0.179\n",
       "Prob(Omnibus):                  0.016   Jarque-Bera (JB):                8.251\n",
       "Skew:                           0.528   Prob(JB):                       0.0162\n",
       "Kurtosis:                       2.575   Cond. No.                     2.77e+07\n",
       "==============================================================================\n",
       "\n",
       "Notes:\n",
       "[1] Standard Errors assume that the covariance matrix of the errors is correctly specified.\n",
       "[2] The condition number is large, 2.77e+07. This might indicate that there are\n",
       "strong multicollinearity or other numerical problems.\n",
       "\"\"\""
      ]
     },
     "execution_count": 46,
     "metadata": {},
     "output_type": "execute_result"
    }
   ],
   "source": [
    "# define independent variables\n",
    "x_NE = OLS_northEast[['intercept', 'adjusted_EducationSpend']]\n",
    "\n",
    "# define dependent variable\n",
    "y_NE = OLS_northEast['adjusted_homeValuation']\n",
    "\n",
    "# run model\n",
    "ols_model(y_NE, x_NE)"
   ]
  },
  {
   "attachments": {},
   "cell_type": "markdown",
   "metadata": {},
   "source": [
    "#### Mid West Region OLS"
   ]
  },
  {
   "cell_type": "code",
   "execution_count": 47,
   "metadata": {},
   "outputs": [
    {
     "data": {
      "text/html": [
       "<table class=\"simpletable\">\n",
       "<caption>OLS Regression Results</caption>\n",
       "<tr>\n",
       "  <th>Dep. Variable:</th>    <td>adjusted_homeValuation</td> <th>  R-squared:         </th> <td>   0.025</td>\n",
       "</tr>\n",
       "<tr>\n",
       "  <th>Model:</th>                      <td>OLS</td>          <th>  Adj. R-squared:    </th> <td>   0.019</td>\n",
       "</tr>\n",
       "<tr>\n",
       "  <th>Method:</th>                <td>Least Squares</td>     <th>  F-statistic:       </th> <td>   4.856</td>\n",
       "</tr>\n",
       "<tr>\n",
       "  <th>Date:</th>                <td>Tue, 25 Apr 2023</td>    <th>  Prob (F-statistic):</th>  <td>0.0287</td> \n",
       "</tr>\n",
       "<tr>\n",
       "  <th>Time:</th>                    <td>10:35:24</td>        <th>  Log-Likelihood:    </th> <td> -2269.7</td>\n",
       "</tr>\n",
       "<tr>\n",
       "  <th>No. Observations:</th>         <td>   195</td>         <th>  AIC:               </th> <td>   4543.</td>\n",
       "</tr>\n",
       "<tr>\n",
       "  <th>Df Residuals:</th>             <td>   193</td>         <th>  BIC:               </th> <td>   4550.</td>\n",
       "</tr>\n",
       "<tr>\n",
       "  <th>Df Model:</th>                 <td>     1</td>         <th>                     </th>     <td> </td>   \n",
       "</tr>\n",
       "<tr>\n",
       "  <th>Covariance Type:</th>         <td>nonrobust</td>       <th>                     </th>     <td> </td>   \n",
       "</tr>\n",
       "</table>\n",
       "<table class=\"simpletable\">\n",
       "<tr>\n",
       "             <td></td>                <th>coef</th>     <th>std err</th>      <th>t</th>      <th>P>|t|</th>  <th>[0.025</th>    <th>0.975]</th>  \n",
       "</tr>\n",
       "<tr>\n",
       "  <th>intercept</th>               <td> 1.322e+05</td> <td> 3428.858</td> <td>   38.546</td> <td> 0.000</td> <td> 1.25e+05</td> <td> 1.39e+05</td>\n",
       "</tr>\n",
       "<tr>\n",
       "  <th>adjusted_EducationSpend</th> <td>    0.0006</td> <td>    0.000</td> <td>    2.204</td> <td> 0.029</td> <td> 6.82e-05</td> <td>    0.001</td>\n",
       "</tr>\n",
       "</table>\n",
       "<table class=\"simpletable\">\n",
       "<tr>\n",
       "  <th>Omnibus:</th>       <td>28.121</td> <th>  Durbin-Watson:     </th> <td>   0.164</td>\n",
       "</tr>\n",
       "<tr>\n",
       "  <th>Prob(Omnibus):</th> <td> 0.000</td> <th>  Jarque-Bera (JB):  </th> <td>  35.829</td>\n",
       "</tr>\n",
       "<tr>\n",
       "  <th>Skew:</th>          <td> 0.942</td> <th>  Prob(JB):          </th> <td>1.66e-08</td>\n",
       "</tr>\n",
       "<tr>\n",
       "  <th>Kurtosis:</th>      <td> 3.927</td> <th>  Cond. No.          </th> <td>2.02e+07</td>\n",
       "</tr>\n",
       "</table><br/><br/>Notes:<br/>[1] Standard Errors assume that the covariance matrix of the errors is correctly specified.<br/>[2] The condition number is large, 2.02e+07. This might indicate that there are<br/>strong multicollinearity or other numerical problems."
      ],
      "text/plain": [
       "<class 'statsmodels.iolib.summary.Summary'>\n",
       "\"\"\"\n",
       "                              OLS Regression Results                              \n",
       "==================================================================================\n",
       "Dep. Variable:     adjusted_homeValuation   R-squared:                       0.025\n",
       "Model:                                OLS   Adj. R-squared:                  0.019\n",
       "Method:                     Least Squares   F-statistic:                     4.856\n",
       "Date:                    Tue, 25 Apr 2023   Prob (F-statistic):             0.0287\n",
       "Time:                            10:35:24   Log-Likelihood:                -2269.7\n",
       "No. Observations:                     195   AIC:                             4543.\n",
       "Df Residuals:                         193   BIC:                             4550.\n",
       "Df Model:                               1                                         \n",
       "Covariance Type:                nonrobust                                         \n",
       "===========================================================================================\n",
       "                              coef    std err          t      P>|t|      [0.025      0.975]\n",
       "-------------------------------------------------------------------------------------------\n",
       "intercept                1.322e+05   3428.858     38.546      0.000    1.25e+05    1.39e+05\n",
       "adjusted_EducationSpend     0.0006      0.000      2.204      0.029    6.82e-05       0.001\n",
       "==============================================================================\n",
       "Omnibus:                       28.121   Durbin-Watson:                   0.164\n",
       "Prob(Omnibus):                  0.000   Jarque-Bera (JB):               35.829\n",
       "Skew:                           0.942   Prob(JB):                     1.66e-08\n",
       "Kurtosis:                       3.927   Cond. No.                     2.02e+07\n",
       "==============================================================================\n",
       "\n",
       "Notes:\n",
       "[1] Standard Errors assume that the covariance matrix of the errors is correctly specified.\n",
       "[2] The condition number is large, 2.02e+07. This might indicate that there are\n",
       "strong multicollinearity or other numerical problems.\n",
       "\"\"\""
      ]
     },
     "execution_count": 47,
     "metadata": {},
     "output_type": "execute_result"
    }
   ],
   "source": [
    "# define independent variables\n",
    "x_MW = OLS_midWest[['intercept', 'adjusted_EducationSpend']]\n",
    "\n",
    "# define dependent variable\n",
    "y_MW = OLS_midWest['adjusted_homeValuation']\n",
    "\n",
    "# run model\n",
    "ols_model(y_MW, x_MW)\n"
   ]
  },
  {
   "attachments": {},
   "cell_type": "markdown",
   "metadata": {},
   "source": [
    "#### South Region OLS"
   ]
  },
  {
   "cell_type": "code",
   "execution_count": 48,
   "metadata": {},
   "outputs": [
    {
     "data": {
      "text/html": [
       "<table class=\"simpletable\">\n",
       "<caption>OLS Regression Results</caption>\n",
       "<tr>\n",
       "  <th>Dep. Variable:</th>    <td>adjusted_homeValuation</td> <th>  R-squared:         </th> <td>   0.000</td>\n",
       "</tr>\n",
       "<tr>\n",
       "  <th>Model:</th>                      <td>OLS</td>          <th>  Adj. R-squared:    </th> <td>  -0.003</td>\n",
       "</tr>\n",
       "<tr>\n",
       "  <th>Method:</th>                <td>Least Squares</td>     <th>  F-statistic:       </th> <td> 0.01175</td>\n",
       "</tr>\n",
       "<tr>\n",
       "  <th>Date:</th>                <td>Tue, 25 Apr 2023</td>    <th>  Prob (F-statistic):</th>  <td> 0.914</td> \n",
       "</tr>\n",
       "<tr>\n",
       "  <th>Time:</th>                    <td>10:35:25</td>        <th>  Log-Likelihood:    </th> <td> -3652.8</td>\n",
       "</tr>\n",
       "<tr>\n",
       "  <th>No. Observations:</th>         <td>   289</td>         <th>  AIC:               </th> <td>   7310.</td>\n",
       "</tr>\n",
       "<tr>\n",
       "  <th>Df Residuals:</th>             <td>   287</td>         <th>  BIC:               </th> <td>   7317.</td>\n",
       "</tr>\n",
       "<tr>\n",
       "  <th>Df Model:</th>                 <td>     1</td>         <th>                     </th>     <td> </td>   \n",
       "</tr>\n",
       "<tr>\n",
       "  <th>Covariance Type:</th>         <td>nonrobust</td>       <th>                     </th>     <td> </td>   \n",
       "</tr>\n",
       "</table>\n",
       "<table class=\"simpletable\">\n",
       "<tr>\n",
       "             <td></td>                <th>coef</th>     <th>std err</th>      <th>t</th>      <th>P>|t|</th>  <th>[0.025</th>    <th>0.975]</th>  \n",
       "</tr>\n",
       "<tr>\n",
       "  <th>intercept</th>               <td> 1.612e+05</td> <td> 6460.750</td> <td>   24.947</td> <td> 0.000</td> <td> 1.48e+05</td> <td> 1.74e+05</td>\n",
       "</tr>\n",
       "<tr>\n",
       "  <th>adjusted_EducationSpend</th> <td> 5.279e-05</td> <td>    0.000</td> <td>    0.108</td> <td> 0.914</td> <td>   -0.001</td> <td>    0.001</td>\n",
       "</tr>\n",
       "</table>\n",
       "<table class=\"simpletable\">\n",
       "<tr>\n",
       "  <th>Omnibus:</th>       <td>107.226</td> <th>  Durbin-Watson:     </th> <td>   0.147</td>\n",
       "</tr>\n",
       "<tr>\n",
       "  <th>Prob(Omnibus):</th> <td> 0.000</td>  <th>  Jarque-Bera (JB):  </th> <td> 273.617</td>\n",
       "</tr>\n",
       "<tr>\n",
       "  <th>Skew:</th>          <td> 1.779</td>  <th>  Prob(JB):          </th> <td>3.84e-60</td>\n",
       "</tr>\n",
       "<tr>\n",
       "  <th>Kurtosis:</th>      <td> 6.172</td>  <th>  Cond. No.          </th> <td>1.95e+07</td>\n",
       "</tr>\n",
       "</table><br/><br/>Notes:<br/>[1] Standard Errors assume that the covariance matrix of the errors is correctly specified.<br/>[2] The condition number is large, 1.95e+07. This might indicate that there are<br/>strong multicollinearity or other numerical problems."
      ],
      "text/plain": [
       "<class 'statsmodels.iolib.summary.Summary'>\n",
       "\"\"\"\n",
       "                              OLS Regression Results                              \n",
       "==================================================================================\n",
       "Dep. Variable:     adjusted_homeValuation   R-squared:                       0.000\n",
       "Model:                                OLS   Adj. R-squared:                 -0.003\n",
       "Method:                     Least Squares   F-statistic:                   0.01175\n",
       "Date:                    Tue, 25 Apr 2023   Prob (F-statistic):              0.914\n",
       "Time:                            10:35:25   Log-Likelihood:                -3652.8\n",
       "No. Observations:                     289   AIC:                             7310.\n",
       "Df Residuals:                         287   BIC:                             7317.\n",
       "Df Model:                               1                                         \n",
       "Covariance Type:                nonrobust                                         \n",
       "===========================================================================================\n",
       "                              coef    std err          t      P>|t|      [0.025      0.975]\n",
       "-------------------------------------------------------------------------------------------\n",
       "intercept                1.612e+05   6460.750     24.947      0.000    1.48e+05    1.74e+05\n",
       "adjusted_EducationSpend  5.279e-05      0.000      0.108      0.914      -0.001       0.001\n",
       "==============================================================================\n",
       "Omnibus:                      107.226   Durbin-Watson:                   0.147\n",
       "Prob(Omnibus):                  0.000   Jarque-Bera (JB):              273.617\n",
       "Skew:                           1.779   Prob(JB):                     3.84e-60\n",
       "Kurtosis:                       6.172   Cond. No.                     1.95e+07\n",
       "==============================================================================\n",
       "\n",
       "Notes:\n",
       "[1] Standard Errors assume that the covariance matrix of the errors is correctly specified.\n",
       "[2] The condition number is large, 1.95e+07. This might indicate that there are\n",
       "strong multicollinearity or other numerical problems.\n",
       "\"\"\""
      ]
     },
     "execution_count": 48,
     "metadata": {},
     "output_type": "execute_result"
    }
   ],
   "source": [
    "# define independent variables\n",
    "x_S = OLS_south[['intercept', 'adjusted_EducationSpend']]\n",
    "\n",
    "# define dependent variable\n",
    "y_S = OLS_south['adjusted_homeValuation']\n",
    "\n",
    "# run model\n",
    "ols_model(y_S, x_S)\n"
   ]
  },
  {
   "attachments": {},
   "cell_type": "markdown",
   "metadata": {},
   "source": [
    "#### West Region OLS"
   ]
  },
  {
   "cell_type": "code",
   "execution_count": 49,
   "metadata": {},
   "outputs": [
    {
     "data": {
      "text/html": [
       "<table class=\"simpletable\">\n",
       "<caption>OLS Regression Results</caption>\n",
       "<tr>\n",
       "  <th>Dep. Variable:</th>    <td>adjusted_homeValuation</td> <th>  R-squared:         </th> <td>   0.247</td>\n",
       "</tr>\n",
       "<tr>\n",
       "  <th>Model:</th>                      <td>OLS</td>          <th>  Adj. R-squared:    </th> <td>   0.243</td>\n",
       "</tr>\n",
       "<tr>\n",
       "  <th>Method:</th>                <td>Least Squares</td>     <th>  F-statistic:       </th> <td>   67.74</td>\n",
       "</tr>\n",
       "<tr>\n",
       "  <th>Date:</th>                <td>Tue, 25 Apr 2023</td>    <th>  Prob (F-statistic):</th> <td>2.07e-14</td>\n",
       "</tr>\n",
       "<tr>\n",
       "  <th>Time:</th>                    <td>10:35:25</td>        <th>  Log-Likelihood:    </th> <td> -2633.0</td>\n",
       "</tr>\n",
       "<tr>\n",
       "  <th>No. Observations:</th>         <td>   209</td>         <th>  AIC:               </th> <td>   5270.</td>\n",
       "</tr>\n",
       "<tr>\n",
       "  <th>Df Residuals:</th>             <td>   207</td>         <th>  BIC:               </th> <td>   5277.</td>\n",
       "</tr>\n",
       "<tr>\n",
       "  <th>Df Model:</th>                 <td>     1</td>         <th>                     </th>     <td> </td>   \n",
       "</tr>\n",
       "<tr>\n",
       "  <th>Covariance Type:</th>         <td>nonrobust</td>       <th>                     </th>     <td> </td>   \n",
       "</tr>\n",
       "</table>\n",
       "<table class=\"simpletable\">\n",
       "<tr>\n",
       "             <td></td>                <th>coef</th>     <th>std err</th>      <th>t</th>      <th>P>|t|</th>  <th>[0.025</th>    <th>0.975]</th>  \n",
       "</tr>\n",
       "<tr>\n",
       "  <th>intercept</th>               <td> 2.249e+05</td> <td> 5690.842</td> <td>   39.519</td> <td> 0.000</td> <td> 2.14e+05</td> <td> 2.36e+05</td>\n",
       "</tr>\n",
       "<tr>\n",
       "  <th>adjusted_EducationSpend</th> <td>    0.0026</td> <td>    0.000</td> <td>    8.230</td> <td> 0.000</td> <td>    0.002</td> <td>    0.003</td>\n",
       "</tr>\n",
       "</table>\n",
       "<table class=\"simpletable\">\n",
       "<tr>\n",
       "  <th>Omnibus:</th>       <td>79.186</td> <th>  Durbin-Watson:     </th> <td>   0.265</td>\n",
       "</tr>\n",
       "<tr>\n",
       "  <th>Prob(Omnibus):</th> <td> 0.000</td> <th>  Jarque-Bera (JB):  </th> <td> 198.921</td>\n",
       "</tr>\n",
       "<tr>\n",
       "  <th>Skew:</th>          <td> 1.723</td> <th>  Prob(JB):          </th> <td>6.38e-44</td>\n",
       "</tr>\n",
       "<tr>\n",
       "  <th>Kurtosis:</th>      <td> 6.312</td> <th>  Cond. No.          </th> <td>2.08e+07</td>\n",
       "</tr>\n",
       "</table><br/><br/>Notes:<br/>[1] Standard Errors assume that the covariance matrix of the errors is correctly specified.<br/>[2] The condition number is large, 2.08e+07. This might indicate that there are<br/>strong multicollinearity or other numerical problems."
      ],
      "text/plain": [
       "<class 'statsmodels.iolib.summary.Summary'>\n",
       "\"\"\"\n",
       "                              OLS Regression Results                              \n",
       "==================================================================================\n",
       "Dep. Variable:     adjusted_homeValuation   R-squared:                       0.247\n",
       "Model:                                OLS   Adj. R-squared:                  0.243\n",
       "Method:                     Least Squares   F-statistic:                     67.74\n",
       "Date:                    Tue, 25 Apr 2023   Prob (F-statistic):           2.07e-14\n",
       "Time:                            10:35:25   Log-Likelihood:                -2633.0\n",
       "No. Observations:                     209   AIC:                             5270.\n",
       "Df Residuals:                         207   BIC:                             5277.\n",
       "Df Model:                               1                                         \n",
       "Covariance Type:                nonrobust                                         \n",
       "===========================================================================================\n",
       "                              coef    std err          t      P>|t|      [0.025      0.975]\n",
       "-------------------------------------------------------------------------------------------\n",
       "intercept                2.249e+05   5690.842     39.519      0.000    2.14e+05    2.36e+05\n",
       "adjusted_EducationSpend     0.0026      0.000      8.230      0.000       0.002       0.003\n",
       "==============================================================================\n",
       "Omnibus:                       79.186   Durbin-Watson:                   0.265\n",
       "Prob(Omnibus):                  0.000   Jarque-Bera (JB):              198.921\n",
       "Skew:                           1.723   Prob(JB):                     6.38e-44\n",
       "Kurtosis:                       6.312   Cond. No.                     2.08e+07\n",
       "==============================================================================\n",
       "\n",
       "Notes:\n",
       "[1] Standard Errors assume that the covariance matrix of the errors is correctly specified.\n",
       "[2] The condition number is large, 2.08e+07. This might indicate that there are\n",
       "strong multicollinearity or other numerical problems.\n",
       "\"\"\""
      ]
     },
     "execution_count": 49,
     "metadata": {},
     "output_type": "execute_result"
    }
   ],
   "source": [
    "# define independent variables\n",
    "x_W = OLS_west[['intercept', 'adjusted_EducationSpend']]\n",
    "\n",
    "# define dependent variable\n",
    "y_W = OLS_west['adjusted_homeValuation']\n",
    "\n",
    "# run model\n",
    "ols_model(y_W, x_W)"
   ]
  }
 ],
 "metadata": {
  "kernelspec": {
   "display_name": "base",
   "language": "python",
   "name": "python3"
  },
  "language_info": {
   "codemirror_mode": {
    "name": "ipython",
    "version": 3
   },
   "file_extension": ".py",
   "mimetype": "text/x-python",
   "name": "python",
   "nbconvert_exporter": "python",
   "pygments_lexer": "ipython3",
   "version": "3.9.13"
  },
  "orig_nbformat": 4
 },
 "nbformat": 4,
 "nbformat_minor": 2
}
